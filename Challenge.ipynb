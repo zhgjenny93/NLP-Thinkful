{
  "nbformat": 4,
  "nbformat_minor": 0,
  "metadata": {
    "accelerator": "TPU",
    "colab": {
      "name": "Challenge.ipynb",
      "provenance": [],
      "machine_shape": "hm",
      "authorship_tag": "ABX9TyNm5oKmAmsO93nh4bvMbxjZ",
      "include_colab_link": true
    },
    "kernelspec": {
      "display_name": "Python 3",
      "name": "python3"
    },
    "language_info": {
      "name": "python"
    }
  },
  "cells": [
    {
      "cell_type": "markdown",
      "metadata": {
        "id": "view-in-github",
        "colab_type": "text"
      },
      "source": [
        "<a href=\"https://colab.research.google.com/github/zhgjenny93/NLP-Thinkful/blob/main/Challenge.ipynb\" target=\"_parent\"><img src=\"https://colab.research.google.com/assets/colab-badge.svg\" alt=\"Open In Colab\"/></a>"
      ]
    },
    {
      "cell_type": "markdown",
      "metadata": {
        "id": "WxTABhpFs6eT"
      },
      "source": [
        "The corpus came from the [University of Rochester]('https://cs.rochester.edu/nlp/rocstories/'), the dataset contains 5-sentence commonsense stories. "
      ]
    },
    {
      "cell_type": "code",
      "metadata": {
        "colab": {
          "base_uri": "https://localhost:8080/"
        },
        "id": "eWM2_mKPkgEQ",
        "outputId": "823a69de-cac0-4ad6-f685-8cb394f887c9"
      },
      "source": [
        "# pip install markovify"
      ],
      "execution_count": 3,
      "outputs": [
        {
          "output_type": "stream",
          "text": [
            "Requirement already satisfied: markovify in /usr/local/lib/python3.7/dist-packages (0.9.0)\n",
            "Requirement already satisfied: unidecode in /usr/local/lib/python3.7/dist-packages (from markovify) (1.2.0)\n"
          ],
          "name": "stdout"
        }
      ]
    },
    {
      "cell_type": "code",
      "metadata": {
        "id": "6JXWrychyYna"
      },
      "source": [
        "import nltk\n",
        "import numpy as np\n",
        "import pandas as pd\n",
        "import random\n",
        "import string\n",
        "from sklearn.feature_extraction.text import TfidfVectorizer\n",
        "from sklearn.metrics.pairwise import cosine_similarity\n",
        "from sklearn.model_selection import train_test_split\n",
        "import re\n",
        "import spacy\n",
        "import warnings\n",
        "import gensim\n",
        "import markovify\n",
        "from collections import Counter\n",
        "\n",
        "warnings.filterwarnings('ignore')"
      ],
      "execution_count": 26,
      "outputs": []
    },
    {
      "cell_type": "code",
      "metadata": {
        "id": "K8oqnTRyMil2"
      },
      "source": [
        "df = pd.read_csv('https://raw.githubusercontent.com/zhgjenny93/datasets/main/ROCStories_winter2017.csv')"
      ],
      "execution_count": 5,
      "outputs": []
    },
    {
      "cell_type": "code",
      "metadata": {
        "colab": {
          "base_uri": "https://localhost:8080/",
          "height": 289
        },
        "id": "jxFjo6xxND8N",
        "outputId": "2752f7f1-ecb2-4990-9f42-d2dfaa6f9f84"
      },
      "source": [
        "df.head()"
      ],
      "execution_count": 6,
      "outputs": [
        {
          "output_type": "execute_result",
          "data": {
            "text/html": [
              "<div>\n",
              "<style scoped>\n",
              "    .dataframe tbody tr th:only-of-type {\n",
              "        vertical-align: middle;\n",
              "    }\n",
              "\n",
              "    .dataframe tbody tr th {\n",
              "        vertical-align: top;\n",
              "    }\n",
              "\n",
              "    .dataframe thead th {\n",
              "        text-align: right;\n",
              "    }\n",
              "</style>\n",
              "<table border=\"1\" class=\"dataframe\">\n",
              "  <thead>\n",
              "    <tr style=\"text-align: right;\">\n",
              "      <th></th>\n",
              "      <th>storyid</th>\n",
              "      <th>storytitle</th>\n",
              "      <th>sentence1</th>\n",
              "      <th>sentence2</th>\n",
              "      <th>sentence3</th>\n",
              "      <th>sentence4</th>\n",
              "      <th>sentence5</th>\n",
              "    </tr>\n",
              "  </thead>\n",
              "  <tbody>\n",
              "    <tr>\n",
              "      <th>0</th>\n",
              "      <td>8bbe6d11-1e2e-413c-bf81-eaea05f4f1bd</td>\n",
              "      <td>David Drops the Weight</td>\n",
              "      <td>David noticed he had put on a lot of weight re...</td>\n",
              "      <td>He examined his habits to try and figure out t...</td>\n",
              "      <td>He realized he'd been eating too much fast foo...</td>\n",
              "      <td>He stopped going to burger places and started ...</td>\n",
              "      <td>After a few weeks, he started to feel much bet...</td>\n",
              "    </tr>\n",
              "    <tr>\n",
              "      <th>1</th>\n",
              "      <td>0beabab2-fb49-460e-a6e6-f35a202e3348</td>\n",
              "      <td>Frustration</td>\n",
              "      <td>Tom had a very short temper.</td>\n",
              "      <td>One day a guest made him very angry.</td>\n",
              "      <td>He punched a hole in the wall of his house.</td>\n",
              "      <td>Tom's guest became afraid and left quickly.</td>\n",
              "      <td>Tom sat on his couch filled with regret about ...</td>\n",
              "    </tr>\n",
              "    <tr>\n",
              "      <th>2</th>\n",
              "      <td>87da1a22-df0b-410c-b186-439700b70ba6</td>\n",
              "      <td>Marcus Buys Khakis</td>\n",
              "      <td>Marcus needed clothing for a business casual e...</td>\n",
              "      <td>All of his clothes were either too formal or t...</td>\n",
              "      <td>He decided to buy a pair of khakis.</td>\n",
              "      <td>The pair he bought fit him perfectly.</td>\n",
              "      <td>Marcus was happy to have the right clothes for...</td>\n",
              "    </tr>\n",
              "    <tr>\n",
              "      <th>3</th>\n",
              "      <td>2d16bcd6-692a-4fc0-8e7c-4a6f81d9efa9</td>\n",
              "      <td>Different Opinions</td>\n",
              "      <td>Bobby thought Bill should buy a trailer and ha...</td>\n",
              "      <td>Bill thought a truck would be better for what ...</td>\n",
              "      <td>Bobby pointed out two vehicles were much more ...</td>\n",
              "      <td>Bill was set in his ways with conventional thi...</td>\n",
              "      <td>He ended up buying the truck he wanted despite...</td>\n",
              "    </tr>\n",
              "    <tr>\n",
              "      <th>4</th>\n",
              "      <td>c71bb23b-7731-4233-8298-76ba6886cee1</td>\n",
              "      <td>Overcoming shortcomings</td>\n",
              "      <td>John was a pastor with a very bad memory.</td>\n",
              "      <td>He tried to memorize his sermons many days in ...</td>\n",
              "      <td>He decided to learn to sing to overcome his ha...</td>\n",
              "      <td>He then made all his sermons into music and sa...</td>\n",
              "      <td>His congregation was delighted and so was he.</td>\n",
              "    </tr>\n",
              "  </tbody>\n",
              "</table>\n",
              "</div>"
            ],
            "text/plain": [
              "                                storyid  ...                                          sentence5\n",
              "0  8bbe6d11-1e2e-413c-bf81-eaea05f4f1bd  ...  After a few weeks, he started to feel much bet...\n",
              "1  0beabab2-fb49-460e-a6e6-f35a202e3348  ...  Tom sat on his couch filled with regret about ...\n",
              "2  87da1a22-df0b-410c-b186-439700b70ba6  ...  Marcus was happy to have the right clothes for...\n",
              "3  2d16bcd6-692a-4fc0-8e7c-4a6f81d9efa9  ...  He ended up buying the truck he wanted despite...\n",
              "4  c71bb23b-7731-4233-8298-76ba6886cee1  ...      His congregation was delighted and so was he.\n",
              "\n",
              "[5 rows x 7 columns]"
            ]
          },
          "metadata": {
            "tags": []
          },
          "execution_count": 6
        }
      ]
    },
    {
      "cell_type": "code",
      "metadata": {
        "id": "aNaBHiRuRSqp"
      },
      "source": [
        "df['story'] = df[['sentence1', 'sentence2', 'sentence3', 'sentence4', 'sentence5']].agg(' '.join, axis=1)"
      ],
      "execution_count": 7,
      "outputs": []
    },
    {
      "cell_type": "code",
      "metadata": {
        "colab": {
          "base_uri": "https://localhost:8080/",
          "height": 52
        },
        "id": "tVyzql6JRp_p",
        "outputId": "3f5a82e9-c5c6-4517-a6f3-70942da6f60b"
      },
      "source": [
        "df['story'].iloc[0]"
      ],
      "execution_count": 8,
      "outputs": [
        {
          "output_type": "execute_result",
          "data": {
            "application/vnd.google.colaboratory.intrinsic+json": {
              "type": "string"
            },
            "text/plain": [
              "\"David noticed he had put on a lot of weight recently. He examined his habits to try and figure out the reason. He realized he'd been eating too much fast food lately. He stopped going to burger places and started a vegetarian diet. After a few weeks, he started to feel much better.\""
            ]
          },
          "metadata": {
            "tags": []
          },
          "execution_count": 8
        }
      ]
    },
    {
      "cell_type": "code",
      "metadata": {
        "id": "uFLCC7yySWR4"
      },
      "source": [
        "story_str = df.story.sample(frac=0.35, random_state=123)\n",
        "story_str = ' '.join(story_str)\n",
        "story_str = ' '.join(story_str.split())"
      ],
      "execution_count": 9,
      "outputs": []
    },
    {
      "cell_type": "code",
      "metadata": {
        "colab": {
          "base_uri": "https://localhost:8080/",
          "height": 35
        },
        "id": "9GIeBsgQU0PC",
        "outputId": "5d00df7e-e387-4dff-ac47-56e47a8ec577"
      },
      "source": [
        "story_str[:200]"
      ],
      "execution_count": 10,
      "outputs": [
        {
          "output_type": "execute_result",
          "data": {
            "application/vnd.google.colaboratory.intrinsic+json": {
              "type": "string"
            },
            "text/plain": [
              "'Jill started her YouTube channel in 2006 and loved the process. She uploaded random videos at random times for the first few years. In 2010 Jill realized that she may be able to make a living doing it'"
            ]
          },
          "metadata": {
            "tags": []
          },
          "execution_count": 10
        }
      ]
    },
    {
      "cell_type": "code",
      "metadata": {
        "colab": {
          "base_uri": "https://localhost:8080/"
        },
        "id": "-mUjfjdtcuzX",
        "outputId": "7f4c48b1-b594-4c58-95ac-04957146af6c"
      },
      "source": [
        "len(story_str)"
      ],
      "execution_count": 11,
      "outputs": [
        {
          "output_type": "execute_result",
          "data": {
            "text/plain": [
              "4121040"
            ]
          },
          "metadata": {
            "tags": []
          },
          "execution_count": 11
        }
      ]
    },
    {
      "cell_type": "code",
      "metadata": {
        "id": "Qnh4JNUMTIoa"
      },
      "source": [
        "nlp = spacy.load('en')\n",
        "nlp.max_length = 5000000\n",
        "story_doc = nlp(story_str)"
      ],
      "execution_count": 12,
      "outputs": []
    },
    {
      "cell_type": "code",
      "metadata": {
        "colab": {
          "base_uri": "https://localhost:8080/"
        },
        "id": "eg8bn1sKlil7",
        "outputId": "78092555-c625-446c-f999-9685aa356b64"
      },
      "source": [
        "# Explore the objects that you've built\n",
        "print(\"The story_doc object is a {} object.\".format(type(story_doc)))\n",
        "print(\"It is {} tokens long\".format(len(story_doc)))\n",
        "print(\"The first three tokens are '{}'\".format(story_doc[:3]))\n",
        "print(\"The type of each token is {}\".format(type(story_doc[0])))"
      ],
      "execution_count": 23,
      "outputs": [
        {
          "output_type": "stream",
          "text": [
            "The story_doc object is a <class 'spacy.tokens.doc.Doc'> object.\n",
            "It is 898006 tokens long\n",
            "The first three tokens are 'Jill started her'\n",
            "The type of each token is <class 'spacy.tokens.token.Token'>\n"
          ],
          "name": "stdout"
        }
      ]
    },
    {
      "cell_type": "code",
      "metadata": {
        "id": "IlZ0jaAjlzri"
      },
      "source": [
        "# Remove stopwords\n",
        "story_without_stopwords = [token for token in story_doc if not token.is_stop]"
      ],
      "execution_count": 24,
      "outputs": []
    },
    {
      "cell_type": "code",
      "metadata": {
        "colab": {
          "base_uri": "https://localhost:8080/"
        },
        "id": "wBJErHVal0sp",
        "outputId": "3484edb3-9e4f-4339-92a5-af451b098626"
      },
      "source": [
        "# Utility function to calculate how frequently words appear in the text\n",
        "def word_frequencies(text):\n",
        "\n",
        "  # Build a list of words\n",
        "  # Strip out punctuation\n",
        "  words = []\n",
        "  for token in text:\n",
        "    if not token.is_punct:\n",
        "      words.append(token.text)\n",
        "  # Build and return a `Counter` object containing word counts\n",
        "  return Counter(words)\n",
        "\n",
        "# Instantiate your list of the most common words\n",
        "story_word_freq = word_frequencies(story_without_stopwords).most_common(10)\n",
        "print('\\nWord Frequencies:', story_word_freq)"
      ],
      "execution_count": 27,
      "outputs": [
        {
          "output_type": "stream",
          "text": [
            "\n",
            "Word Frequencies: [('day', 3782), ('went', 3780), ('got', 3677), ('decided', 3078), ('wanted', 2689), ('new', 2464), ('Tom', 2416), ('home', 1960), ('time', 1951), ('friends', 1761)]\n"
          ],
          "name": "stdout"
        }
      ]
    },
    {
      "cell_type": "code",
      "metadata": {
        "colab": {
          "base_uri": "https://localhost:8080/"
        },
        "id": "2fGdRMudmPAX",
        "outputId": "667bdbf1-96aa-47a2-dde2-73ddab859aa7"
      },
      "source": [
        "# Utility function to calculate how frequently each lemma appears in the text\n",
        "def lemma_frequencies(text):\n",
        "\n",
        "  # Build a list of lemmas\n",
        "  # Strip out punctuation\n",
        "  lemmas = []\n",
        "  for token in text:\n",
        "    if not token.is_punct:\n",
        "      lemmas.append(token.lemma_)\n",
        "\n",
        "  # Build and return a `Counter` object containing lemma counts\n",
        "  return Counter(lemmas)\n",
        "\n",
        "# Instantiate your list of most common lemmas\n",
        "story_lemma_freq = lemma_frequencies(story_without_stopwords).most_common(10)\n",
        "print('\\nLemma Frequencies:', story_lemma_freq)"
      ],
      "execution_count": 28,
      "outputs": [
        {
          "output_type": "stream",
          "text": [
            "\n",
            "Lemma Frequencies: [('go', 5052), ('get', 4477), ('day', 4135), ('decide', 3281), ('want', 3198), ('friend', 3122), ('new', 2483), ('find', 2441), ('Tom', 2416), ('work', 2414)]\n"
          ],
          "name": "stdout"
        }
      ]
    },
    {
      "cell_type": "code",
      "metadata": {
        "id": "SVkQ6J2slPUv"
      },
      "source": [
        "story_sents = [sent.text for sent in story_doc.sents if len(sent.text) > 1]"
      ],
      "execution_count": 13,
      "outputs": []
    },
    {
      "cell_type": "markdown",
      "metadata": {
        "id": "71EKrzJnjyH-"
      },
      "source": [
        "## Text Generation\n",
        "Use part of speech tags with the Markovify package and train a Markov chain model with the story dataset."
      ]
    },
    {
      "cell_type": "code",
      "metadata": {
        "id": "odHeOtQikOHm"
      },
      "source": [
        "class POSifiedText(markovify.Text):\n",
        "  \n",
        "  def word_split(self, sentence):\n",
        "    return ['::'.join((word.orth_, word.pos_)) for word in nlp(sentence)]\n",
        "\n",
        "  def word_join(self, words):\n",
        "    sentence = ' '.join(word.split('::')[0] for word in words)\n",
        "    sentence = re.sub(r'\\s+([?.!,\\'\"])', r'\\1', sentence)\n",
        "    return sentence"
      ],
      "execution_count": 80,
      "outputs": []
    },
    {
      "cell_type": "code",
      "metadata": {
        "id": "1mnI8iqoj0IO"
      },
      "source": [
        "# Build model to generate text by looking at the 3 previous words (state_size=3)\n",
        "story_generator = POSifiedText(story_sents, state_size=3)"
      ],
      "execution_count": null,
      "outputs": []
    },
    {
      "cell_type": "code",
      "metadata": {
        "colab": {
          "base_uri": "https://localhost:8080/"
        },
        "id": "2vvSXVXQj8j_",
        "outputId": "b11fbae9-e9a3-4b9f-b4e9-ccd2027ab915"
      },
      "source": [
        "# Generate some sentences\n",
        "for i in range(3):\n",
        "  print(story_generator.make_sentence())\n",
        "\n",
        "# Generate some sentences with 100 character limit\n",
        "for i in range(3):\n",
        "  print(story_generator.make_short_sentence(100))"
      ],
      "execution_count": 22,
      "outputs": [
        {
          "output_type": "stream",
          "text": [
            "so she put me in the corner .\n",
            "Ari was walking home from school to avoid failure .\n",
            "Tom was out all day yesterday .\n",
            "Alicia is now very careful about every part of the night .\n",
            "She could n't decide which game to play in the sand .\n",
            "The firemen walked into the store with only five dollars .\n"
          ],
          "name": "stdout"
        }
      ]
    },
    {
      "cell_type": "markdown",
      "metadata": {
        "id": "SUYqGkhQjsKW"
      },
      "source": [
        "## Chatbot"
      ]
    },
    {
      "cell_type": "code",
      "metadata": {
        "id": "LbhldNDglelc"
      },
      "source": [
        "# pip install chatterbot"
      ],
      "execution_count": 17,
      "outputs": []
    },
    {
      "cell_type": "code",
      "metadata": {
        "id": "yztNIx2tlkz_"
      },
      "source": [
        "# # Import libraries\n",
        "# from chatterbot import ChatBot\n",
        "# from chatterbot.trainers import ListTrainer, ChatterBotCorpusTrainer\n",
        "# from chatterbot.conversation import Statement"
      ],
      "execution_count": 18,
      "outputs": []
    },
    {
      "cell_type": "code",
      "metadata": {
        "id": "SB89SOZ6lrrE"
      },
      "source": [
        "# # Create a chatbot\n",
        "# chatbot = ChatBot('Story')\n",
        "\n",
        "# # This is to remove the accumulated knowledge base\n",
        "# chatbot.storage.drop()\n",
        "\n",
        "# # Create a new trainer for the chatbot\n",
        "# trainer = ListTrainer(chatbot)\n",
        "\n",
        "# # Train the chatbot based on dialogs\n",
        "# trainer.train(story_sents)"
      ],
      "execution_count": 19,
      "outputs": []
    },
    {
      "cell_type": "code",
      "metadata": {
        "id": "Pxiycqn_n3LF"
      },
      "source": [
        "# print(\"StoryBot: I will try to respond to you reasonably. If you want to exit, type bye\")\n",
        "\n",
        "# # Below is the chatting\n",
        "# while True:\n",
        "#   user_input = input(\"User: \")\n",
        "#   user_input = user_input.lower()\n",
        "\n",
        "#   if(user_input != 'bye'):\n",
        "#     if (user_input == 'thanks' or user_input == 'thank you'):\n",
        "#       print(\"Persuasion: You're welcome.\")\n",
        "#       break\n",
        "#     else:\n",
        "#       if (greeting(user_input) != None):\n",
        "#         print(\"Persuasion: \" + greeting(user_input))\n",
        "#       else:\n",
        "#         print(\"Persuasion: \", end =\"\")\n",
        "#         print(chatbot.get_response(user_input))\n",
        "#   else:\n",
        "#     print(\"Persuasion: Bye! It was a great chat.\")\n",
        "#     break"
      ],
      "execution_count": 20,
      "outputs": []
    },
    {
      "cell_type": "code",
      "metadata": {
        "id": "7XVJQUVElZWX"
      },
      "source": [
        "# GREETING_INPUTS = ['hello', 'hi', 'greetings', \"what's up\", 'hey', 'yo','heya','hiya']\n",
        "# GREETING_RESPONSES = ['hello', 'hi', 'hey', 'hi there']\n",
        "# def greeting(sentence):\n",
        "#   for word in sentence.split():\n",
        "#     if word.lower() in GREETING_INPUTS:\n",
        "#       return random.choice(GREETING_RESPONSES)"
      ],
      "execution_count": 21,
      "outputs": []
    }
  ]
}