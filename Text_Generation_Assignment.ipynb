{
  "nbformat": 4,
  "nbformat_minor": 0,
  "metadata": {
    "colab": {
      "name": "Text Generation-Assignment.ipynb",
      "provenance": [],
      "collapsed_sections": [],
      "authorship_tag": "ABX9TyOfvBhtQNYR/cLlwXMoRNib",
      "include_colab_link": true
    },
    "kernelspec": {
      "name": "python3",
      "display_name": "Python 3"
    },
    "language_info": {
      "name": "python"
    }
  },
  "cells": [
    {
      "cell_type": "markdown",
      "metadata": {
        "id": "view-in-github",
        "colab_type": "text"
      },
      "source": [
        "<a href=\"https://colab.research.google.com/github/zhgjenny93/NLP-Thinkful/blob/main/Text_Generation_Assignment.ipynb\" target=\"_parent\"><img src=\"https://colab.research.google.com/assets/colab-badge.svg\" alt=\"Open In Colab\"/></a>"
      ]
    },
    {
      "cell_type": "markdown",
      "metadata": {
        "id": "tlKAa01TnDoI"
      },
      "source": [
        "In the following assignments, you'll use Twitter US Airline Sentiment data. Access the dataset from the Thinkful database using the following credentials:\n",
        "\n",
        "```\n",
        "postgres_user = 'dsbc_student'\n",
        "postgres_pw = '7*.8G9QH21'\n",
        "postgres_host = '142.93.121.174'\n",
        "postgres_port = '5432'\n",
        "postgres_db = 'twitter_sentiment'\n",
        "```\n",
        "\n",
        "The data is in the table called twitter."
      ]
    },
    {
      "cell_type": "markdown",
      "metadata": {
        "id": "kehBxVbMnUxr"
      },
      "source": [
        "1. First, do some data preprocessing to clean up the data as necessary. You can use your solution to the assignment of the Text preprocessing checkpoint.\n",
        "2. Train a Markov chain model by using only the negative sentiment tweets. Generate some random sentences. Do the generated sentences exhibit the same negative sentiment?\n",
        "3. Repeat the previous task, but this time, use only the positive sentiment tweets. Generate some random sentences and observe whether they exhibit positive sentiment or not.\n",
        "4. Now, train your Markov chain model using all of the tweets. Generate some random sentences. Can you say something systematic about the sentiments of the generated tweets?"
      ]
    },
    {
      "cell_type": "code",
      "metadata": {
        "colab": {
          "base_uri": "https://localhost:8080/"
        },
        "id": "r42EihzcoFMt",
        "outputId": "d6114507-5211-464d-f5f8-8bd897091778"
      },
      "source": [
        "pip install markovify"
      ],
      "execution_count": null,
      "outputs": [
        {
          "output_type": "stream",
          "text": [
            "Requirement already satisfied: markovify in /usr/local/lib/python3.7/dist-packages (0.9.0)\n",
            "Requirement already satisfied: unidecode in /usr/local/lib/python3.7/dist-packages (from markovify) (1.2.0)\n"
          ],
          "name": "stdout"
        }
      ]
    },
    {
      "cell_type": "code",
      "metadata": {
        "colab": {
          "base_uri": "https://localhost:8080/"
        },
        "id": "RrqmgSXImvt3",
        "outputId": "f8641517-833c-4acd-bd20-16417cd9c343"
      },
      "source": [
        "from sqlalchemy import create_engine\n",
        "import numpy as np\n",
        "import pandas as pd\n",
        "import nltk\n",
        "from time import time\n",
        "import re\n",
        "import spacy\n",
        "import markovify\n",
        "import warnings\n",
        "warnings.filterwarnings('ignore')\n",
        "\n",
        "nltk.download('gutenberg')"
      ],
      "execution_count": null,
      "outputs": [
        {
          "output_type": "stream",
          "text": [
            "[nltk_data] Downloading package gutenberg to /root/nltk_data...\n",
            "[nltk_data]   Package gutenberg is already up-to-date!\n"
          ],
          "name": "stdout"
        },
        {
          "output_type": "execute_result",
          "data": {
            "text/plain": [
              "True"
            ]
          },
          "metadata": {
            "tags": []
          },
          "execution_count": 2
        }
      ]
    },
    {
      "cell_type": "code",
      "metadata": {
        "colab": {
          "base_uri": "https://localhost:8080/",
          "height": 855
        },
        "id": "HgmYLS8qnxg5",
        "outputId": "7455bf6a-754e-4080-db15-639415c8adda"
      },
      "source": [
        "postgres_user = 'dsbc_student'\n",
        "postgres_pw = '7*.8G9QH21'\n",
        "postgres_host = '142.93.121.174'\n",
        "postgres_port = '5432'\n",
        "postgres_db = 'twitter_sentiment'\n",
        "\n",
        "engine = create_engine('postgresql://{}:{}@{}:{}/{}'.format(\n",
        "    postgres_user, postgres_pw, postgres_host, postgres_port, postgres_db))\n",
        "\n",
        "tweets_df = pd.read_sql_query('select * from twitter',con=engine)\n",
        "\n",
        "# no need for an open connection, as we're only doing a single query\n",
        "engine.dispose()\n",
        "\n",
        "\n",
        "tweets_df.head(10)"
      ],
      "execution_count": null,
      "outputs": [
        {
          "output_type": "execute_result",
          "data": {
            "text/html": [
              "<div>\n",
              "<style scoped>\n",
              "    .dataframe tbody tr th:only-of-type {\n",
              "        vertical-align: middle;\n",
              "    }\n",
              "\n",
              "    .dataframe tbody tr th {\n",
              "        vertical-align: top;\n",
              "    }\n",
              "\n",
              "    .dataframe thead th {\n",
              "        text-align: right;\n",
              "    }\n",
              "</style>\n",
              "<table border=\"1\" class=\"dataframe\">\n",
              "  <thead>\n",
              "    <tr style=\"text-align: right;\">\n",
              "      <th></th>\n",
              "      <th>index</th>\n",
              "      <th>tweet_id</th>\n",
              "      <th>airline_sentiment</th>\n",
              "      <th>airline_sentiment_confidence</th>\n",
              "      <th>negativereason</th>\n",
              "      <th>negativereason_confidence</th>\n",
              "      <th>airline</th>\n",
              "      <th>airline_sentiment_gold</th>\n",
              "      <th>name</th>\n",
              "      <th>negativereason_gold</th>\n",
              "      <th>retweet_count</th>\n",
              "      <th>text</th>\n",
              "      <th>tweet_coord</th>\n",
              "      <th>tweet_created</th>\n",
              "      <th>tweet_location</th>\n",
              "      <th>user_timezone</th>\n",
              "    </tr>\n",
              "  </thead>\n",
              "  <tbody>\n",
              "    <tr>\n",
              "      <th>0</th>\n",
              "      <td>0</td>\n",
              "      <td>570306133677760513</td>\n",
              "      <td>neutral</td>\n",
              "      <td>1.0000</td>\n",
              "      <td>None</td>\n",
              "      <td>NaN</td>\n",
              "      <td>Virgin America</td>\n",
              "      <td>None</td>\n",
              "      <td>cairdin</td>\n",
              "      <td>None</td>\n",
              "      <td>0</td>\n",
              "      <td>@VirginAmerica What @dhepburn said.</td>\n",
              "      <td>None</td>\n",
              "      <td>2015-02-24 11:35:52 -0800</td>\n",
              "      <td>None</td>\n",
              "      <td>Eastern Time (US &amp; Canada)</td>\n",
              "    </tr>\n",
              "    <tr>\n",
              "      <th>1</th>\n",
              "      <td>1</td>\n",
              "      <td>570301130888122368</td>\n",
              "      <td>positive</td>\n",
              "      <td>0.3486</td>\n",
              "      <td>None</td>\n",
              "      <td>0.0000</td>\n",
              "      <td>Virgin America</td>\n",
              "      <td>None</td>\n",
              "      <td>jnardino</td>\n",
              "      <td>None</td>\n",
              "      <td>0</td>\n",
              "      <td>@VirginAmerica plus you've added commercials t...</td>\n",
              "      <td>None</td>\n",
              "      <td>2015-02-24 11:15:59 -0800</td>\n",
              "      <td>None</td>\n",
              "      <td>Pacific Time (US &amp; Canada)</td>\n",
              "    </tr>\n",
              "    <tr>\n",
              "      <th>2</th>\n",
              "      <td>2</td>\n",
              "      <td>570301083672813571</td>\n",
              "      <td>neutral</td>\n",
              "      <td>0.6837</td>\n",
              "      <td>None</td>\n",
              "      <td>NaN</td>\n",
              "      <td>Virgin America</td>\n",
              "      <td>None</td>\n",
              "      <td>yvonnalynn</td>\n",
              "      <td>None</td>\n",
              "      <td>0</td>\n",
              "      <td>@VirginAmerica I didn't today... Must mean I n...</td>\n",
              "      <td>None</td>\n",
              "      <td>2015-02-24 11:15:48 -0800</td>\n",
              "      <td>Lets Play</td>\n",
              "      <td>Central Time (US &amp; Canada)</td>\n",
              "    </tr>\n",
              "    <tr>\n",
              "      <th>3</th>\n",
              "      <td>3</td>\n",
              "      <td>570301031407624196</td>\n",
              "      <td>negative</td>\n",
              "      <td>1.0000</td>\n",
              "      <td>Bad Flight</td>\n",
              "      <td>0.7033</td>\n",
              "      <td>Virgin America</td>\n",
              "      <td>None</td>\n",
              "      <td>jnardino</td>\n",
              "      <td>None</td>\n",
              "      <td>0</td>\n",
              "      <td>@VirginAmerica it's really aggressive to blast...</td>\n",
              "      <td>None</td>\n",
              "      <td>2015-02-24 11:15:36 -0800</td>\n",
              "      <td>None</td>\n",
              "      <td>Pacific Time (US &amp; Canada)</td>\n",
              "    </tr>\n",
              "    <tr>\n",
              "      <th>4</th>\n",
              "      <td>4</td>\n",
              "      <td>570300817074462722</td>\n",
              "      <td>negative</td>\n",
              "      <td>1.0000</td>\n",
              "      <td>Can't Tell</td>\n",
              "      <td>1.0000</td>\n",
              "      <td>Virgin America</td>\n",
              "      <td>None</td>\n",
              "      <td>jnardino</td>\n",
              "      <td>None</td>\n",
              "      <td>0</td>\n",
              "      <td>@VirginAmerica and it's a really big bad thing...</td>\n",
              "      <td>None</td>\n",
              "      <td>2015-02-24 11:14:45 -0800</td>\n",
              "      <td>None</td>\n",
              "      <td>Pacific Time (US &amp; Canada)</td>\n",
              "    </tr>\n",
              "    <tr>\n",
              "      <th>5</th>\n",
              "      <td>5</td>\n",
              "      <td>570300767074181121</td>\n",
              "      <td>negative</td>\n",
              "      <td>1.0000</td>\n",
              "      <td>Can't Tell</td>\n",
              "      <td>0.6842</td>\n",
              "      <td>Virgin America</td>\n",
              "      <td>None</td>\n",
              "      <td>jnardino</td>\n",
              "      <td>None</td>\n",
              "      <td>0</td>\n",
              "      <td>@VirginAmerica seriously would pay $30 a fligh...</td>\n",
              "      <td>None</td>\n",
              "      <td>2015-02-24 11:14:33 -0800</td>\n",
              "      <td>None</td>\n",
              "      <td>Pacific Time (US &amp; Canada)</td>\n",
              "    </tr>\n",
              "    <tr>\n",
              "      <th>6</th>\n",
              "      <td>6</td>\n",
              "      <td>570300616901320704</td>\n",
              "      <td>positive</td>\n",
              "      <td>0.6745</td>\n",
              "      <td>None</td>\n",
              "      <td>0.0000</td>\n",
              "      <td>Virgin America</td>\n",
              "      <td>None</td>\n",
              "      <td>cjmcginnis</td>\n",
              "      <td>None</td>\n",
              "      <td>0</td>\n",
              "      <td>@VirginAmerica yes, nearly every time I fly VX...</td>\n",
              "      <td>None</td>\n",
              "      <td>2015-02-24 11:13:57 -0800</td>\n",
              "      <td>San Francisco CA</td>\n",
              "      <td>Pacific Time (US &amp; Canada)</td>\n",
              "    </tr>\n",
              "    <tr>\n",
              "      <th>7</th>\n",
              "      <td>7</td>\n",
              "      <td>570300248553349120</td>\n",
              "      <td>neutral</td>\n",
              "      <td>0.6340</td>\n",
              "      <td>None</td>\n",
              "      <td>NaN</td>\n",
              "      <td>Virgin America</td>\n",
              "      <td>None</td>\n",
              "      <td>pilot</td>\n",
              "      <td>None</td>\n",
              "      <td>0</td>\n",
              "      <td>@VirginAmerica Really missed a prime opportuni...</td>\n",
              "      <td>None</td>\n",
              "      <td>2015-02-24 11:12:29 -0800</td>\n",
              "      <td>Los Angeles</td>\n",
              "      <td>Pacific Time (US &amp; Canada)</td>\n",
              "    </tr>\n",
              "    <tr>\n",
              "      <th>8</th>\n",
              "      <td>8</td>\n",
              "      <td>570299953286942721</td>\n",
              "      <td>positive</td>\n",
              "      <td>0.6559</td>\n",
              "      <td>None</td>\n",
              "      <td>NaN</td>\n",
              "      <td>Virgin America</td>\n",
              "      <td>None</td>\n",
              "      <td>dhepburn</td>\n",
              "      <td>None</td>\n",
              "      <td>0</td>\n",
              "      <td>@virginamerica Well, I didn't…but NOW I DO! :-D</td>\n",
              "      <td>None</td>\n",
              "      <td>2015-02-24 11:11:19 -0800</td>\n",
              "      <td>San Diego</td>\n",
              "      <td>Pacific Time (US &amp; Canada)</td>\n",
              "    </tr>\n",
              "    <tr>\n",
              "      <th>9</th>\n",
              "      <td>9</td>\n",
              "      <td>570295459631263746</td>\n",
              "      <td>positive</td>\n",
              "      <td>1.0000</td>\n",
              "      <td>None</td>\n",
              "      <td>NaN</td>\n",
              "      <td>Virgin America</td>\n",
              "      <td>None</td>\n",
              "      <td>YupitsTate</td>\n",
              "      <td>None</td>\n",
              "      <td>0</td>\n",
              "      <td>@VirginAmerica it was amazing, and arrived an ...</td>\n",
              "      <td>None</td>\n",
              "      <td>2015-02-24 10:53:27 -0800</td>\n",
              "      <td>Los Angeles</td>\n",
              "      <td>Eastern Time (US &amp; Canada)</td>\n",
              "    </tr>\n",
              "  </tbody>\n",
              "</table>\n",
              "</div>"
            ],
            "text/plain": [
              "   index            tweet_id  ...    tweet_location               user_timezone\n",
              "0      0  570306133677760513  ...              None  Eastern Time (US & Canada)\n",
              "1      1  570301130888122368  ...              None  Pacific Time (US & Canada)\n",
              "2      2  570301083672813571  ...         Lets Play  Central Time (US & Canada)\n",
              "3      3  570301031407624196  ...              None  Pacific Time (US & Canada)\n",
              "4      4  570300817074462722  ...              None  Pacific Time (US & Canada)\n",
              "5      5  570300767074181121  ...              None  Pacific Time (US & Canada)\n",
              "6      6  570300616901320704  ...  San Francisco CA  Pacific Time (US & Canada)\n",
              "7      7  570300248553349120  ...       Los Angeles  Pacific Time (US & Canada)\n",
              "8      8  570299953286942721  ...         San Diego  Pacific Time (US & Canada)\n",
              "9      9  570295459631263746  ...       Los Angeles  Eastern Time (US & Canada)\n",
              "\n",
              "[10 rows x 16 columns]"
            ]
          },
          "metadata": {
            "tags": []
          },
          "execution_count": 3
        }
      ]
    },
    {
      "cell_type": "code",
      "metadata": {
        "id": "Puluyh6an4ZR"
      },
      "source": [
        "nlp = spacy.load('en')\n",
        "\n",
        "nlp.max_length = 20000000\n",
        "\n",
        "twitter_doc = nlp(\" \".join(tweets_df.text))"
      ],
      "execution_count": null,
      "outputs": []
    },
    {
      "cell_type": "code",
      "metadata": {
        "colab": {
          "base_uri": "https://localhost:8080/"
        },
        "id": "7SFT5vyBsa1a",
        "outputId": "6c84fd3c-1045-4e27-855d-09ead112d15b"
      },
      "source": [
        "tweets_df.airline_sentiment.value_counts()"
      ],
      "execution_count": null,
      "outputs": [
        {
          "output_type": "execute_result",
          "data": {
            "text/plain": [
              "negative    9178\n",
              "neutral     3099\n",
              "positive    2363\n",
              "Name: airline_sentiment, dtype: int64"
            ]
          },
          "metadata": {
            "tags": []
          },
          "execution_count": 17
        }
      ]
    },
    {
      "cell_type": "markdown",
      "metadata": {
        "id": "bu_npS4Gpo30"
      },
      "source": [
        "## 2. Train Markov chain model with only negative sentiment tweets"
      ]
    },
    {
      "cell_type": "code",
      "metadata": {
        "id": "1TnuFDeWoWO9"
      },
      "source": [
        "neg_tweets_doc = nlp(' '.join(tweets_df[tweets_df['airline_sentiment']=='negative'].text))\n",
        "\n",
        "neg_tweet_sents = ' '.join([sent.text for sent in neg_tweets_doc.sents if len(sent.text) > 1])\n",
        "\n",
        "neg_tweet_generator = markovify.Text(neg_tweet_sents, state_size=3)"
      ],
      "execution_count": null,
      "outputs": []
    },
    {
      "cell_type": "code",
      "metadata": {
        "colab": {
          "base_uri": "https://localhost:8080/"
        },
        "id": "O0H3sYv2qiGb",
        "outputId": "d846c146-cece-44c8-bd12-a6ad13c3615b"
      },
      "source": [
        "# Print three randomly generated sentences\n",
        "for i in range(3):\n",
        "  print(neg_tweet_generator.make_sentence())\n",
        "\n",
        "# Print three randomly generated sentences of no more than 100 characters\n",
        "for i in range(3):\n",
        "  print(neg_tweet_generator.make_short_sentence(100))"
      ],
      "execution_count": null,
      "outputs": [
        {
          "output_type": "stream",
          "text": [
            "My mother is onboard &amp; the crew was escorted from the back to 1st class.\n",
            "Now there's a problem &amp; I don't want to seem crazy!\n",
            "@JetBlue @fllairport best way to do this online.\n",
            "Seems like you guys have any working planes?\n",
            "@JetBlue #fail My wife on the phone just goes to a busy signal.\n",
            "@united Booked a flight home due to extreme disorganization and lack of snacks on the plane!\n"
          ],
          "name": "stdout"
        }
      ]
    },
    {
      "cell_type": "markdown",
      "metadata": {
        "id": "SOpCQK83p7fF"
      },
      "source": [
        "The generated sentences definitely exhibit negative sentiment."
      ]
    },
    {
      "cell_type": "markdown",
      "metadata": {
        "id": "eAWiGHpxp0lB"
      },
      "source": [
        "## 3. Train Markov chain model now with only positive sentiments"
      ]
    },
    {
      "cell_type": "code",
      "metadata": {
        "id": "zLosJ6qKqI_P"
      },
      "source": [
        "positive_tweets_doc = nlp(' '.join(tweets_df[tweets_df['airline_sentiment']=='positive'].text))\n",
        "\n",
        "positive_tweet_sents = ' '.join([sent.text for sent in positive_tweets_doc.sents if len(sent.text) > 1])\n",
        "\n",
        "positive_tweet_generator = markovify.Text(positive_tweet_sents, state_size=3)"
      ],
      "execution_count": null,
      "outputs": []
    },
    {
      "cell_type": "code",
      "metadata": {
        "colab": {
          "base_uri": "https://localhost:8080/"
        },
        "id": "VQwfmP2mqmdt",
        "outputId": "8ccd67c0-3c52-41f1-c731-a810b24a16aa"
      },
      "source": [
        "# Print three randomly generated sentences\n",
        "for i in range(3):\n",
        "  print(positive_tweet_generator.make_sentence())\n",
        "\n",
        "# Print three randomly generated sentences of no more than 100 characters\n",
        "for i in range(3):\n",
        "  print(positive_tweet_generator.make_short_sentence(100))"
      ],
      "execution_count": null,
      "outputs": [
        {
          "output_type": "stream",
          "text": [
            "Also looks like you opened some up on my flight right now, thanks!! @USAirways We're back at a gate.\n",
            "None\n",
            "Just wanted to see if you have any idea what tail is operating flt 606 2maro?\n",
            "☕✈ 👍 @JetBlue awesome, thanks! on hold now.\n",
            "And thanks for being so good to me.\n",
            "I ❤ your company and your staff and crew were purely amazing!\n"
          ],
          "name": "stdout"
        }
      ]
    },
    {
      "cell_type": "markdown",
      "metadata": {
        "id": "vVdW1E6nrXAa"
      },
      "source": [
        "The generated tweets generally exhibit positive sentiments."
      ]
    },
    {
      "cell_type": "markdown",
      "metadata": {
        "id": "T10t9XEiq0nn"
      },
      "source": [
        "## Train Markov chain model using all tweets. Can you say something systematic about the sentiments of the generated tweets?"
      ]
    },
    {
      "cell_type": "code",
      "metadata": {
        "id": "PlketNyDrAlE"
      },
      "source": [
        "tweet_sents = ' '.join([sent.text for sent in twitter_doc.sents if len(sent.text) > 1])\n",
        "\n",
        "tweet_generator = markovify.Text(tweet_sents, state_size=3)"
      ],
      "execution_count": null,
      "outputs": []
    },
    {
      "cell_type": "code",
      "metadata": {
        "colab": {
          "base_uri": "https://localhost:8080/"
        },
        "id": "S25KgvJMrb4F",
        "outputId": "4a247c93-9785-4249-a67d-32e72a46c87b"
      },
      "source": [
        "# Print ten randomly generated sentences\n",
        "for i in range(10):\n",
        "  print(tweet_generator.make_sentence())\n",
        "\n",
        "# Print ten randomly generated sentences with no more than 100 characters\n",
        "for i in range(10):\n",
        "  print(tweet_generator.make_short_sentence(100))"
      ],
      "execution_count": null,
      "outputs": [
        {
          "output_type": "stream",
          "text": [
            "You guys 2 hrs on hold along w 2 Cancelled Flightled flights this morning and had been on hold for over an hour @USAirways thanks so much!\n",
            "Thank y'all for being an amazing airline who knows how to treat people with respect and just a little dignity.\n",
            "#RefundProcedureNotTooPainful I know that but that doesn't get me my money back @AmericanAir I Cancelled Flighted my flight.\n",
            "Basic customer service @AmericanAir I have tried to change our flight THREE times on the same plane?\n",
            "@AmericanAir thanks for the bullshit.\n",
            "@USAirways who would like to know what's going on with US Airways flight as myself for the same price.\n",
            "Can I Cancelled Flight my car reservation and it came out to more money... why did you Cancelled Flight my flight within the 24hr window but have been trying to reach an agent via phone.\n",
            "In order to prevent DVT I have to collect my bag and through the TSA checkpoint, I guarantee I will be there alone a day and a half and your phones hang up on me.\n",
            "They called #United for an alternate flight #NOANSWER @united I am calling to check on our request..\n",
            "8 out of 10 flights have been Cancelled Flighted? mechanical issue.\n",
            "Is there any chance I can get a receipt for a Cancelled Flightled flight.\n",
            "@AmericanAir better do the right thing and take care of Flight 759 to Chicago.\n",
            "Would appreciate a follow so I can change my flight that was delayed 2 hours!\n",
            "@JetBlue How is it looking?\n",
            "Three hour wait for a deadhead crew.\n",
            "Maybe you guys should do?\n",
            "@AmericanAir hah, best flight attendant ever!!! http://t.co/PxdEL1nq3l Awesome!\n",
            "@SouthwestAir can you help me get there?\n",
            "#LuvSW A-list @SouthwestAir is there a possibility it will change?\n",
            "I purchased a new ticket of the phone?\n"
          ],
          "name": "stdout"
        }
      ]
    },
    {
      "cell_type": "markdown",
      "metadata": {
        "id": "JBYuTVIssSpH"
      },
      "source": [
        "There is a mix of all neutral, positive, and negative sentiments. However, it appears that they are mostly negative tweets. This is expected and probably explained as most of the tweets do carry negative sentiment."
      ]
    }
  ]
}