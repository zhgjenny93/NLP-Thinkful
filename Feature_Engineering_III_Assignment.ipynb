{
  "nbformat": 4,
  "nbformat_minor": 0,
  "metadata": {
    "colab": {
      "name": "Feature Engineering III-Assignment.ipynb",
      "provenance": [],
      "authorship_tag": "ABX9TyN3Y1dND6nQQqveMy+k5ggb",
      "include_colab_link": true
    },
    "kernelspec": {
      "name": "python3",
      "display_name": "Python 3"
    },
    "language_info": {
      "name": "python"
    }
  },
  "cells": [
    {
      "cell_type": "markdown",
      "metadata": {
        "id": "view-in-github",
        "colab_type": "text"
      },
      "source": [
        "<a href=\"https://colab.research.google.com/github/zhgjenny93/NLP-Thinkful/blob/main/Feature_Engineering_III_Assignment.ipynb\" target=\"_parent\"><img src=\"https://colab.research.google.com/assets/colab-badge.svg\" alt=\"Open In Colab\"/></a>"
      ]
    },
    {
      "cell_type": "markdown",
      "metadata": {
        "id": "yxFv6s9kxAIG"
      },
      "source": [
        "Train your own word2vec representations, as you did in the first example in this checkpoint. However, you need to experiment with the hyperparameters of the vectorization step. Modify the hyperparameters and run the classification models again. Can you wrangle any improvements?"
      ]
    },
    {
      "cell_type": "code",
      "metadata": {
        "colab": {
          "base_uri": "https://localhost:8080/"
        },
        "id": "U7yREs1yw6m3",
        "outputId": "f2d783e7-6212-4219-a56b-f6a2c7156000"
      },
      "source": [
        "import numpy as np\n",
        "import pandas as pd\n",
        "import sklearn\n",
        "import spacy\n",
        "import re\n",
        "import nltk\n",
        "from nltk.corpus import gutenberg\n",
        "import gensim\n",
        "import warnings\n",
        "warnings.filterwarnings('ignore')\n",
        "\n",
        "nltk.download('gutenberg')"
      ],
      "execution_count": 1,
      "outputs": [
        {
          "output_type": "stream",
          "text": [
            "[nltk_data] Downloading package gutenberg to /root/nltk_data...\n",
            "[nltk_data]   Package gutenberg is already up-to-date!\n"
          ],
          "name": "stdout"
        },
        {
          "output_type": "execute_result",
          "data": {
            "text/plain": [
              "True"
            ]
          },
          "metadata": {
            "tags": []
          },
          "execution_count": 1
        }
      ]
    },
    {
      "cell_type": "code",
      "metadata": {
        "id": "hCL4Ay8cxnli"
      },
      "source": [
        "# Utility function for standard text cleaning\n",
        "def text_cleaner(text):\n",
        "    # Visual inspection identifies a form of punctuation that spaCy doesn't\n",
        "    # recognize: the double dash --. Better get rid of it now!\n",
        "    text = re.sub(r'--',' ',text)\n",
        "    text = re.sub(\"[\\[].*?[\\]]\", \"\", text)\n",
        "    text = re.sub(r\"(\\b|\\s+\\-?|^\\-?)(\\d+|\\d*\\.\\d+)\\b\", \" \", text)\n",
        "    text = ' '.join(text.split())\n",
        "    return text"
      ],
      "execution_count": 2,
      "outputs": []
    },
    {
      "cell_type": "code",
      "metadata": {
        "id": "RTaurhhExqqI"
      },
      "source": [
        "# Load and clean the data\n",
        "persuasion = gutenberg.raw('austen-persuasion.txt')\n",
        "alice = gutenberg.raw('carroll-alice.txt')\n",
        "\n",
        "# The chapter indicator is idiosyncratic\n",
        "persuasion = re.sub(r'Chapter \\d+', '', persuasion)\n",
        "alice = re.sub(r'CHAPTER .*', '', alice)\n",
        "    \n",
        "alice = text_cleaner(alice)\n",
        "persuasion = text_cleaner(persuasion)"
      ],
      "execution_count": 3,
      "outputs": []
    },
    {
      "cell_type": "code",
      "metadata": {
        "id": "sdPS2unxxsI-"
      },
      "source": [
        "# Parse the cleaned novels. This can take some time.\n",
        "nlp = spacy.load('en')\n",
        "alice_doc = nlp(alice)\n",
        "persuasion_doc = nlp(persuasion)"
      ],
      "execution_count": 4,
      "outputs": []
    },
    {
      "cell_type": "code",
      "metadata": {
        "colab": {
          "base_uri": "https://localhost:8080/",
          "height": 204
        },
        "id": "Gsl6CM2LxtVA",
        "outputId": "e9d2e928-29be-475b-c5f4-d3935054b78a"
      },
      "source": [
        "# Group into sentences\n",
        "alice_sents = [[sent, \"Carroll\"] for sent in alice_doc.sents]\n",
        "persuasion_sents = [[sent, \"Austen\"] for sent in persuasion_doc.sents]\n",
        "\n",
        "# Combine the sentences from the two novels into one DataFrame\n",
        "sentences = pd.DataFrame(alice_sents + persuasion_sents, columns = [\"text\", \"author\"])\n",
        "sentences.head()"
      ],
      "execution_count": 5,
      "outputs": [
        {
          "output_type": "execute_result",
          "data": {
            "text/html": [
              "<div>\n",
              "<style scoped>\n",
              "    .dataframe tbody tr th:only-of-type {\n",
              "        vertical-align: middle;\n",
              "    }\n",
              "\n",
              "    .dataframe tbody tr th {\n",
              "        vertical-align: top;\n",
              "    }\n",
              "\n",
              "    .dataframe thead th {\n",
              "        text-align: right;\n",
              "    }\n",
              "</style>\n",
              "<table border=\"1\" class=\"dataframe\">\n",
              "  <thead>\n",
              "    <tr style=\"text-align: right;\">\n",
              "      <th></th>\n",
              "      <th>text</th>\n",
              "      <th>author</th>\n",
              "    </tr>\n",
              "  </thead>\n",
              "  <tbody>\n",
              "    <tr>\n",
              "      <th>0</th>\n",
              "      <td>(Alice, was, beginning, to, get, very, tired, ...</td>\n",
              "      <td>Carroll</td>\n",
              "    </tr>\n",
              "    <tr>\n",
              "      <th>1</th>\n",
              "      <td>(So, she, was, considering, in, her, own, mind...</td>\n",
              "      <td>Carroll</td>\n",
              "    </tr>\n",
              "    <tr>\n",
              "      <th>2</th>\n",
              "      <td>(There, was, nothing, so, VERY, remarkable, in...</td>\n",
              "      <td>Carroll</td>\n",
              "    </tr>\n",
              "    <tr>\n",
              "      <th>3</th>\n",
              "      <td>(Oh, dear, !)</td>\n",
              "      <td>Carroll</td>\n",
              "    </tr>\n",
              "    <tr>\n",
              "      <th>4</th>\n",
              "      <td>(I, shall, be, late, !, ')</td>\n",
              "      <td>Carroll</td>\n",
              "    </tr>\n",
              "  </tbody>\n",
              "</table>\n",
              "</div>"
            ],
            "text/plain": [
              "                                                text   author\n",
              "0  (Alice, was, beginning, to, get, very, tired, ...  Carroll\n",
              "1  (So, she, was, considering, in, her, own, mind...  Carroll\n",
              "2  (There, was, nothing, so, VERY, remarkable, in...  Carroll\n",
              "3                                      (Oh, dear, !)  Carroll\n",
              "4                         (I, shall, be, late, !, ')  Carroll"
            ]
          },
          "metadata": {
            "tags": []
          },
          "execution_count": 5
        }
      ]
    },
    {
      "cell_type": "code",
      "metadata": {
        "id": "fNAioKpQxwAA"
      },
      "source": [
        "# Get rid of stop words and punctuation,\n",
        "# and lemmatize the tokens\n",
        "for i, sentence in enumerate(sentences[\"text\"]):\n",
        "    sentences.loc[i, \"text\"] = [token.lemma_ for token in sentence if not token.is_punct and not token.is_stop]"
      ],
      "execution_count": 6,
      "outputs": []
    },
    {
      "cell_type": "markdown",
      "metadata": {
        "id": "nbGgZzu8x0tk"
      },
      "source": [
        "Now, you're ready to vectorize your words using word2vec. For this purpose, use `Word2Vec` from Gensim's `models` module. The `Word2Vec` class has several parameters. Set the following parameters:\n",
        "\n",
        "* `workers=4`: Set the number of threads to run in parallel to 4 (which makes sense if your computer has available computing units).\n",
        "* `min_count=1`: Set the minimum word count threshold to 1.\n",
        "* `window=6`: Set the number of words around the target word to consider to 6.\n",
        "* `sg=0`: Use CBOW because your corpus is small.\n",
        "* `sample=1e-3`: Penalize frequent words.\n",
        "* `size=100`: Set the word vector length to 100.\n",
        "* `hs=1`: Use hierarchical softmax."
      ]
    },
    {
      "cell_type": "code",
      "metadata": {
        "id": "9rxIqnEhx0hO"
      },
      "source": [
        "# Train word2vec on the sentences\n",
        "model1 = gensim.models.Word2Vec(\n",
        "    sentences['text'],\n",
        "    workers=4,\n",
        "    min_count=1,\n",
        "    window=6,\n",
        "    sg=0,\n",
        "    sample=1e-3,\n",
        "    size=100,\n",
        "    hs=1\n",
        ")\n",
        "\n",
        "model2 = gensim.models.Word2Vec(\n",
        "    sentences['text'],\n",
        "    workers=4,\n",
        "    min_count=1,\n",
        "    window=6,\n",
        "    sg=0,\n",
        "    sample=1e-3,\n",
        "    size=200,\n",
        "    hs=1\n",
        ")\n",
        "\n",
        "model3 = gensim.models.Word2Vec(\n",
        "    sentences['text'],\n",
        "    workers=4,\n",
        "    min_count=1,\n",
        "    window=6,\n",
        "    sg=0,\n",
        "    sample=1e-4,\n",
        "    size=200,\n",
        "    hs=1\n",
        ")\n",
        "\n",
        "model4 = gensim.models.Word2Vec(\n",
        "    sentences['text'],\n",
        "    workers=4,\n",
        "    min_count=1,\n",
        "    window=8,\n",
        "    sg=0,\n",
        "    sample=1e-3,\n",
        "    size=100,\n",
        "    hs=1\n",
        ")\n",
        "\n",
        "model5 = gensim.models.Word2Vec(\n",
        "    sentences['text'],\n",
        "    workers=4,\n",
        "    min_count=1,\n",
        "    window=8,\n",
        "    sg=0,\n",
        "    sample=1e-3,\n",
        "    size=200,\n",
        "    hs=1\n",
        ")\n",
        "\n",
        "model6 = gensim.models.Word2Vec(\n",
        "    sentences['text'],\n",
        "    workers=4,\n",
        "    min_count=1,\n",
        "    window=8,\n",
        "    sg=0,\n",
        "    sample=1e-3,\n",
        "    size=300,\n",
        "    hs=1\n",
        ")"
      ],
      "execution_count": 7,
      "outputs": []
    },
    {
      "cell_type": "code",
      "metadata": {
        "id": "zIJ4s16P03WI"
      },
      "source": [
        "word2vec_arr1 = np.zeros((sentences.shape[0],100))\n",
        "word2vec_arr2 = np.zeros((sentences.shape[0],200))\n",
        "word2vec_arr3 = np.zeros((sentences.shape[0],200))\n",
        "word2vec_arr4 = np.zeros((sentences.shape[0],100))\n",
        "word2vec_arr5 = np.zeros((sentences.shape[0],200))\n",
        "word2vec_arr6 = np.zeros((sentences.shape[0],300))\n",
        "\n",
        "for i, sentence in enumerate(sentences[\"text\"]):\n",
        "  try:\n",
        "    word2vec_arr1[i,:] = np.mean([model1[lemma] for lemma in sentence], axis=0)\n",
        "    word2vec_arr2[i,:] = np.mean([model2[lemma] for lemma in sentence], axis=0)\n",
        "    word2vec_arr3[i,:] = np.mean([model3[lemma] for lemma in sentence], axis=0)\n",
        "    word2vec_arr4[i,:] = np.mean([model4[lemma] for lemma in sentence], axis=0)\n",
        "    word2vec_arr5[i,:] = np.mean([model5[lemma] for lemma in sentence], axis=0)\n",
        "    word2vec_arr6[i,:] = np.mean([model6[lemma] for lemma in sentence], axis=0)\n",
        "  except KeyError:\n",
        "    word2vec_arr1[i,:] = np.full((1, 100), np.nan)\n",
        "    word2vec_arr2[i,:] = np.full((1, 200), np.nan)\n",
        "    word2vec_arr3[i,:] = np.full((1, 200), np.nan)\n",
        "    word2vec_arr4[i,:] = np.full((1, 100), np.nan)\n",
        "    word2vec_arr5[i,:] = np.full((1, 200), np.nan)\n",
        "    word2vec_arr6[i,:] = np.full((1, 300), np.nan)\n",
        "    continue\n",
        "\n",
        "word2vec_arr1 = pd.DataFrame(word2vec_arr1)\n",
        "word2vec_arr2 = pd.DataFrame(word2vec_arr2)\n",
        "word2vec_arr3 = pd.DataFrame(word2vec_arr3)\n",
        "word2vec_arr4 = pd.DataFrame(word2vec_arr4)\n",
        "word2vec_arr5 = pd.DataFrame(word2vec_arr5)\n",
        "word2vec_arr6 = pd.DataFrame(word2vec_arr6)\n",
        "\n",
        "sentences1 = pd.concat([sentences[[\"author\", \"text\"]],word2vec_arr1], axis=1)\n",
        "sentences1.dropna(inplace=True)\n",
        "\n",
        "sentences2 = pd.concat([sentences[[\"author\", \"text\"]],word2vec_arr2], axis=1)\n",
        "sentences2.dropna(inplace=True)\n",
        "\n",
        "sentences3 = pd.concat([sentences[[\"author\", \"text\"]],word2vec_arr3], axis=1)\n",
        "sentences3.dropna(inplace=True)\n",
        "\n",
        "sentences4 = pd.concat([sentences[[\"author\", \"text\"]],word2vec_arr4], axis=1)\n",
        "sentences4.dropna(inplace=True)\n",
        "\n",
        "sentences5 = pd.concat([sentences[[\"author\", \"text\"]],word2vec_arr5], axis=1)\n",
        "sentences5.dropna(inplace=True)\n",
        "\n",
        "sentences6 = pd.concat([sentences[[\"author\", \"text\"]],word2vec_arr6], axis=1)\n",
        "sentences6.dropna(inplace=True)"
      ],
      "execution_count": 8,
      "outputs": []
    },
    {
      "cell_type": "code",
      "metadata": {
        "colab": {
          "base_uri": "https://localhost:8080/"
        },
        "id": "oyRuSxJH25_d",
        "outputId": "42c6fd0b-0e0f-4830-9d1c-5722dc0cb57f"
      },
      "source": [
        "from sklearn.linear_model import LogisticRegression\n",
        "from sklearn.ensemble import RandomForestClassifier, GradientBoostingClassifier\n",
        "from sklearn.model_selection import train_test_split\n",
        "\n",
        "Y1 = sentences1['author']\n",
        "Y2 = sentences2['author']\n",
        "Y3 = sentences3['author']\n",
        "Y4 = sentences4['author']\n",
        "Y5 = sentences5['author']\n",
        "Y6 = sentences6['author']\n",
        "\n",
        "X1 = np.array(sentences1.drop(['text','author'], 1))\n",
        "X2 = np.array(sentences2.drop(['text','author'], 1))\n",
        "X3 = np.array(sentences3.drop(['text','author'], 1))\n",
        "X4 = np.array(sentences4.drop(['text','author'], 1))\n",
        "X5 = np.array(sentences5.drop(['text','author'], 1))\n",
        "X6 = np.array(sentences6.drop(['text','author'], 1))\n",
        "\n",
        "# We split the dataset into train and test sets\n",
        "X_train1, X_test1, y_train1, y_test1 = train_test_split(X1, Y1, test_size=0.3, random_state=123)\n",
        "X_train2, X_test2, y_train2, y_test2 = train_test_split(X2, Y2, test_size=0.3, random_state=123)\n",
        "X_train3, X_test3, y_train3, y_test3 = train_test_split(X3, Y3, test_size=0.3, random_state=123)\n",
        "X_train4, X_test4, y_train4, y_test4 = train_test_split(X4, Y4, test_size=0.3, random_state=123)\n",
        "X_train5, X_test5, y_train5, y_test5 = train_test_split(X5, Y5, test_size=0.3, random_state=123)\n",
        "X_train6, X_test6, y_train6, y_test6 = train_test_split(X6, Y6, test_size=0.3, random_state=123)\n",
        "\n",
        "# Models\n",
        "lr = LogisticRegression()\n",
        "rfc = RandomForestClassifier()\n",
        "gbc = GradientBoostingClassifier()\n",
        "\n",
        "print(\"-----------------------Word2vec Model 1------------------------------\")\n",
        "lr.fit(X_train1, y_train1)\n",
        "rfc.fit(X_train1, y_train1)\n",
        "gbc.fit(X_train1, y_train1)\n",
        "print(\"----------------------Logistic Regression Scores----------------------\")\n",
        "print('Training set score:', lr.score(X_train1, y_train1))\n",
        "print('\\nTest set score:', lr.score(X_test1, y_test1))\n",
        "\n",
        "print(\"----------------------Random Forest Scores----------------------\")\n",
        "print('Training set score:', rfc.score(X_train1, y_train1))\n",
        "print('\\nTest set score:', rfc.score(X_test1, y_test1))\n",
        "\n",
        "print(\"----------------------Gradient Boosting Scores----------------------\")\n",
        "print('Training set score:', gbc.score(X_train1, y_train1))\n",
        "print('\\nTest set score:', gbc.score(X_test1, y_test1))\n",
        "\n",
        "print(\"\\n-----------------------Word2vec Model 2------------------------------\")\n",
        "lr.fit(X_train2, y_train2)\n",
        "rfc.fit(X_train2, y_train2)\n",
        "gbc.fit(X_train2, y_train2)\n",
        "print(\"----------------------Logistic Regression Scores----------------------\")\n",
        "print('Training set score:', lr.score(X_train2, y_train2))\n",
        "print('\\nTest set score:', lr.score(X_test2, y_test2))\n",
        "\n",
        "print(\"----------------------Random Forest Scores----------------------\")\n",
        "print('Training set score:', rfc.score(X_train2, y_train2))\n",
        "print('\\nTest set score:', rfc.score(X_test2, y_test2))\n",
        "\n",
        "print(\"----------------------Gradient Boosting Scores----------------------\")\n",
        "print('Training set score:', gbc.score(X_train2, y_train2))\n",
        "print('\\nTest set score:', gbc.score(X_test2, y_test2))\n",
        "\n",
        "print(\"\\n-----------------------Word2vec Model 3------------------------------\")\n",
        "lr.fit(X_train3, y_train3)\n",
        "rfc.fit(X_train3, y_train3)\n",
        "gbc.fit(X_train3, y_train3)\n",
        "print(\"----------------------Logistic Regression Scores----------------------\")\n",
        "print('Training set score:', lr.score(X_train3, y_train3))\n",
        "print('\\nTest set score:', lr.score(X_test3, y_test3))\n",
        "\n",
        "print(\"----------------------Random Forest Scores----------------------\")\n",
        "print('Training set score:', rfc.score(X_train3, y_train3))\n",
        "print('\\nTest set score:', rfc.score(X_test3, y_test3))\n",
        "\n",
        "print(\"----------------------Gradient Boosting Scores----------------------\")\n",
        "print('Training set score:', gbc.score(X_train3, y_train3))\n",
        "print('\\nTest set score:', gbc.score(X_test3, y_test3))\n",
        "\n",
        "print(\"\\n-----------------------Word2vec Model 4------------------------------\")\n",
        "lr.fit(X_train4, y_train4)\n",
        "rfc.fit(X_train4, y_train4)\n",
        "gbc.fit(X_train4, y_train4)\n",
        "print(\"----------------------Logistic Regression Scores----------------------\")\n",
        "print('Training set score:', lr.score(X_train4, y_train4))\n",
        "print('\\nTest set score:', lr.score(X_test4, y_test4))\n",
        "\n",
        "print(\"----------------------Random Forest Scores----------------------\")\n",
        "print('Training set score:', rfc.score(X_train4, y_train4))\n",
        "print('\\nTest set score:', rfc.score(X_test4, y_test4))\n",
        "\n",
        "print(\"----------------------Gradient Boosting Scores----------------------\")\n",
        "print('Training set score:', gbc.score(X_train4, y_train4))\n",
        "print('\\nTest set score:', gbc.score(X_test4, y_test4))\n",
        "\n",
        "print(\"\\n-----------------------Word2vec Model 5------------------------------\")\n",
        "lr.fit(X_train5, y_train5)\n",
        "rfc.fit(X_train5, y_train5)\n",
        "gbc.fit(X_train5, y_train5)\n",
        "print(\"----------------------Logistic Regression Scores----------------------\")\n",
        "print('Training set score:', lr.score(X_train5, y_train5))\n",
        "print('\\nTest set score:', lr.score(X_test5, y_test5))\n",
        "\n",
        "print(\"----------------------Random Forest Scores----------------------\")\n",
        "print('Training set score:', rfc.score(X_train5, y_train5))\n",
        "print('\\nTest set score:', rfc.score(X_test5, y_test5))\n",
        "\n",
        "print(\"----------------------Gradient Boosting Scores----------------------\")\n",
        "print('Training set score:', gbc.score(X_train5, y_train5))\n",
        "print('\\nTest set score:', gbc.score(X_test5, y_test5))\n",
        "\n",
        "print(\"\\n-----------------------Word2vec Model 6------------------------------\")\n",
        "lr.fit(X_train6, y_train6)\n",
        "rfc.fit(X_train6, y_train6)\n",
        "gbc.fit(X_train6, y_train6)\n",
        "print(\"----------------------Logistic Regression Scores----------------------\")\n",
        "print('Training set score:', lr.score(X_train6, y_train6))\n",
        "print('\\nTest set score:', lr.score(X_test6, y_test6))\n",
        "\n",
        "print(\"----------------------Random Forest Scores----------------------\")\n",
        "print('Training set score:', rfc.score(X_train6, y_train6))\n",
        "print('\\nTest set score:', rfc.score(X_test6, y_test6))\n",
        "\n",
        "print(\"----------------------Gradient Boosting Scores----------------------\")\n",
        "print('Training set score:', gbc.score(X_train6, y_train6))\n",
        "print('\\nTest set score:', gbc.score(X_test6, y_test6))\n"
      ],
      "execution_count": 9,
      "outputs": [
        {
          "output_type": "stream",
          "text": [
            "-----------------------Word2vec Model 1------------------------------\n",
            "----------------------Logistic Regression Scores----------------------\n",
            "Training set score: 0.7539144050104384\n",
            "\n",
            "Test set score: 0.7626293365794279\n",
            "----------------------Random Forest Scores----------------------\n",
            "Training set score: 0.9921711899791231\n",
            "\n",
            "Test set score: 0.8143639683505782\n",
            "----------------------Gradient Boosting Scores----------------------\n",
            "Training set score: 0.8763048016701461\n",
            "\n",
            "Test set score: 0.81253804017042\n",
            "\n",
            "-----------------------Word2vec Model 2------------------------------\n",
            "----------------------Logistic Regression Scores----------------------\n",
            "Training set score: 0.7515657620041754\n",
            "\n",
            "Test set score: 0.7699330493000609\n",
            "----------------------Random Forest Scores----------------------\n",
            "Training set score: 0.9921711899791231\n",
            "\n",
            "Test set score: 0.8137553256238588\n",
            "----------------------Gradient Boosting Scores----------------------\n",
            "Training set score: 0.8896137787056367\n",
            "\n",
            "Test set score: 0.8222763237979306\n",
            "\n",
            "-----------------------Word2vec Model 3------------------------------\n",
            "----------------------Logistic Regression Scores----------------------\n",
            "Training set score: 0.6795407098121086\n",
            "\n",
            "Test set score: 0.6835057821059038\n",
            "----------------------Random Forest Scores----------------------\n",
            "Training set score: 0.9921711899791231\n",
            "\n",
            "Test set score: 0.751065124771759\n",
            "----------------------Gradient Boosting Scores----------------------\n",
            "Training set score: 0.8426409185803758\n",
            "\n",
            "Test set score: 0.7419354838709677\n",
            "\n",
            "-----------------------Word2vec Model 4------------------------------\n",
            "----------------------Logistic Regression Scores----------------------\n",
            "Training set score: 0.7802713987473904\n",
            "\n",
            "Test set score: 0.790626902008521\n",
            "----------------------Random Forest Scores----------------------\n",
            "Training set score: 0.9921711899791231\n",
            "\n",
            "Test set score: 0.8222763237979306\n",
            "----------------------Gradient Boosting Scores----------------------\n",
            "Training set score: 0.8838726513569938\n",
            "\n",
            "Test set score: 0.837492391965916\n",
            "\n",
            "-----------------------Word2vec Model 5------------------------------\n",
            "----------------------Logistic Regression Scores----------------------\n",
            "Training set score: 0.7567849686847599\n",
            "\n",
            "Test set score: 0.7748021911138162\n",
            "----------------------Random Forest Scores----------------------\n",
            "Training set score: 0.9921711899791231\n",
            "\n",
            "Test set score: 0.8222763237979306\n",
            "----------------------Gradient Boosting Scores----------------------\n",
            "Training set score: 0.8877870563674322\n",
            "\n",
            "Test set score: 0.8301886792452831\n",
            "\n",
            "-----------------------Word2vec Model 6------------------------------\n",
            "----------------------Logistic Regression Scores----------------------\n",
            "Training set score: 0.7486951983298539\n",
            "\n",
            "Test set score: 0.7668898356664637\n",
            "----------------------Random Forest Scores----------------------\n",
            "Training set score: 0.9921711899791231\n",
            "\n",
            "Test set score: 0.819841752891053\n",
            "----------------------Gradient Boosting Scores----------------------\n",
            "Training set score: 0.8995302713987474\n",
            "\n",
            "Test set score: 0.8356664637857577\n"
          ],
          "name": "stdout"
        }
      ]
    },
    {
      "cell_type": "markdown",
      "metadata": {
        "id": "v0yOdGLu5BpA"
      },
      "source": [
        "It appears that other than model 3, all the other models have realitively similar performances compared to models of the same type. Out of all six models, model 4 performed slightly better in terms of LogisticRegression and Gradient Boosting. Random Forest produced the same performance in models 4 and 5."
      ]
    }
  ]
}