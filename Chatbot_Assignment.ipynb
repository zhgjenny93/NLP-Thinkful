{
  "nbformat": 4,
  "nbformat_minor": 0,
  "metadata": {
    "colab": {
      "name": "Chatbot-Assignment.ipynb",
      "provenance": [],
      "machine_shape": "hm",
      "authorship_tag": "ABX9TyOHGmjIP5kkkdHRlcyiW5nC",
      "include_colab_link": true
    },
    "kernelspec": {
      "name": "python3",
      "display_name": "Python 3"
    },
    "language_info": {
      "name": "python"
    }
  },
  "cells": [
    {
      "cell_type": "markdown",
      "metadata": {
        "id": "view-in-github",
        "colab_type": "text"
      },
      "source": [
        "<a href=\"https://colab.research.google.com/github/zhgjenny93/NLP-Thinkful/blob/main/Chatbot_Assignment.ipynb\" target=\"_parent\"><img src=\"https://colab.research.google.com/assets/colab-badge.svg\" alt=\"Open In Colab\"/></a>"
      ]
    },
    {
      "cell_type": "markdown",
      "metadata": {
        "id": "r1XgP_wpv5jm"
      },
      "source": [
        "In this assignment, you'll work with a dataset called [Cornell Movie--Dialogs Corpus](http://www.cs.cornell.edu/~cristian/Cornell_Movie-Dialogs_Corpus.html), which was released by the Cornell University. The dataset contains conversations from more than 600 movies. Use the following credentials to access the dataset from the Thinkful database.\n",
        "\n",
        "```\n",
        "postgres_user = 'dsbc_student'\n",
        "postgres_pw = '7*.8G9QH21'\n",
        "postgres_host = '142.93.121.174'\n",
        "postgres_port = '5432'\n",
        "postgres_db = 'cornell_movie_dialogs'\n",
        "```\n",
        "The data is in the table called dialogs."
      ]
    },
    {
      "cell_type": "markdown",
      "metadata": {
        "id": "t5XaHxKdwRKe"
      },
      "source": [
        "1. First, do some data preprocessing to clean up the data. You can use your solution to the assignment of the Text preprocessing checkpoint.\n",
        "\n",
        "2. Develop a chatbot using this corpus. In doing this, you're free to choose a chatbot development library like ChatterBot or write your own code from scratch.\n",
        "\n",
        "3. Start a conversation with your chatbot, and discuss its strengths and weaknesses."
      ]
    },
    {
      "cell_type": "code",
      "metadata": {
        "id": "QFKFicOjJVj3",
        "colab": {
          "base_uri": "https://localhost:8080/"
        },
        "outputId": "a36b3e04-9442-4efb-9ab3-d0ecf6e6e1d8"
      },
      "source": [
        "import nltk\n",
        "import numpy as np\n",
        "import pandas as pd\n",
        "import random\n",
        "import string\n",
        "from sklearn.feature_extraction.text import TfidfVectorizer\n",
        "from sklearn.metrics.pairwise import cosine_similarity\n",
        "import re\n",
        "import spacy\n",
        "from sqlalchemy import create_engine\n",
        "from collections import Counter\n",
        "import warnings\n",
        "warnings.filterwarnings('ignore')\n",
        "\n",
        "nltk.download('gutenberg')"
      ],
      "execution_count": 1,
      "outputs": [
        {
          "output_type": "stream",
          "text": [
            "[nltk_data] Downloading package gutenberg to /root/nltk_data...\n",
            "[nltk_data]   Package gutenberg is already up-to-date!\n"
          ],
          "name": "stdout"
        },
        {
          "output_type": "execute_result",
          "data": {
            "text/plain": [
              "True"
            ]
          },
          "metadata": {
            "tags": []
          },
          "execution_count": 1
        }
      ]
    },
    {
      "cell_type": "code",
      "metadata": {
        "colab": {
          "base_uri": "https://localhost:8080/",
          "height": 359
        },
        "id": "LUtjjbVMwmSY",
        "outputId": "9f3968f0-4688-43b6-9bff-1595adcf546b"
      },
      "source": [
        "postgres_user = 'dsbc_student'\n",
        "postgres_pw = '7*.8G9QH21'\n",
        "postgres_host = '142.93.121.174'\n",
        "postgres_port = '5432'\n",
        "postgres_db = 'cornell_movie_dialogs'\n",
        "\n",
        "engine = create_engine('postgresql://{}:{}@{}:{}/{}'.format(\n",
        "    postgres_user, postgres_pw, postgres_host, postgres_port, postgres_db))\n",
        "\n",
        "dialogs_df = pd.read_sql_query('select * from dialogs', con=engine)\n",
        "\n",
        "# no need for an open connection, as we're only doing a single query\n",
        "engine.dispose()\n",
        "\n",
        "dialogs_df.head(10)"
      ],
      "execution_count": 2,
      "outputs": [
        {
          "output_type": "execute_result",
          "data": {
            "text/html": [
              "<div>\n",
              "<style scoped>\n",
              "    .dataframe tbody tr th:only-of-type {\n",
              "        vertical-align: middle;\n",
              "    }\n",
              "\n",
              "    .dataframe tbody tr th {\n",
              "        vertical-align: top;\n",
              "    }\n",
              "\n",
              "    .dataframe thead th {\n",
              "        text-align: right;\n",
              "    }\n",
              "</style>\n",
              "<table border=\"1\" class=\"dataframe\">\n",
              "  <thead>\n",
              "    <tr style=\"text-align: right;\">\n",
              "      <th></th>\n",
              "      <th>index</th>\n",
              "      <th>dialogs</th>\n",
              "    </tr>\n",
              "  </thead>\n",
              "  <tbody>\n",
              "    <tr>\n",
              "      <th>0</th>\n",
              "      <td>0</td>\n",
              "      <td>Can we make this quick?  Roxanne Korrine and A...</td>\n",
              "    </tr>\n",
              "    <tr>\n",
              "      <th>1</th>\n",
              "      <td>1</td>\n",
              "      <td>Well, I thought we'd start with pronunciation,...</td>\n",
              "    </tr>\n",
              "    <tr>\n",
              "      <th>2</th>\n",
              "      <td>2</td>\n",
              "      <td>Not the hacking and gagging and spitting part....</td>\n",
              "    </tr>\n",
              "    <tr>\n",
              "      <th>3</th>\n",
              "      <td>3</td>\n",
              "      <td>Okay... then how 'bout we try out some French ...</td>\n",
              "    </tr>\n",
              "    <tr>\n",
              "      <th>4</th>\n",
              "      <td>4</td>\n",
              "      <td>You're asking me out.  That's so cute. What's ...</td>\n",
              "    </tr>\n",
              "    <tr>\n",
              "      <th>5</th>\n",
              "      <td>5</td>\n",
              "      <td>Forget it.</td>\n",
              "    </tr>\n",
              "    <tr>\n",
              "      <th>6</th>\n",
              "      <td>6</td>\n",
              "      <td>No, no, it's my fault -- we didn't have a prop...</td>\n",
              "    </tr>\n",
              "    <tr>\n",
              "      <th>7</th>\n",
              "      <td>7</td>\n",
              "      <td>Cameron.</td>\n",
              "    </tr>\n",
              "    <tr>\n",
              "      <th>8</th>\n",
              "      <td>8</td>\n",
              "      <td>The thing is, Cameron -- I'm at the mercy of a...</td>\n",
              "    </tr>\n",
              "    <tr>\n",
              "      <th>9</th>\n",
              "      <td>9</td>\n",
              "      <td>Seems like she could get a date easy enough...</td>\n",
              "    </tr>\n",
              "  </tbody>\n",
              "</table>\n",
              "</div>"
            ],
            "text/plain": [
              "   index                                            dialogs\n",
              "0      0  Can we make this quick?  Roxanne Korrine and A...\n",
              "1      1  Well, I thought we'd start with pronunciation,...\n",
              "2      2  Not the hacking and gagging and spitting part....\n",
              "3      3  Okay... then how 'bout we try out some French ...\n",
              "4      4  You're asking me out.  That's so cute. What's ...\n",
              "5      5                                         Forget it.\n",
              "6      6  No, no, it's my fault -- we didn't have a prop...\n",
              "7      7                                           Cameron.\n",
              "8      8  The thing is, Cameron -- I'm at the mercy of a...\n",
              "9      9     Seems like she could get a date easy enough..."
            ]
          },
          "metadata": {
            "tags": []
          },
          "execution_count": 2
        }
      ]
    },
    {
      "cell_type": "code",
      "metadata": {
        "id": "iZL8_mXSwolE"
      },
      "source": [
        "# Remove new lines and other extra whitespace by creating str from df and splitting and rejoining\n",
        "\n",
        "dialogs_str = ' '.join(dialogs_df.dialogs)\n",
        "dialogs_str = ' '.join(dialogs_str.split())"
      ],
      "execution_count": 3,
      "outputs": []
    },
    {
      "cell_type": "code",
      "metadata": {
        "id": "hc8Y_JPBwqSm"
      },
      "source": [
        "nlp = spacy.load('en', disable=['parser', 'ner'])\n",
        "nlp.add_pipe(nlp.create_pipe('sentencizer'))\n",
        "\n",
        "# below is necessary to avoid memory error of SpaCy\n",
        "nlp.max_length = 20000000\n",
        "\n",
        "# all the processing work is done here, may take a while\n",
        "dialogs_doc = nlp(dialogs_str)"
      ],
      "execution_count": 4,
      "outputs": []
    },
    {
      "cell_type": "code",
      "metadata": {
        "id": "U5QwxK7Nxgg_"
      },
      "source": [
        "dialog_sents = [sent.text for sent in dialogs_doc.sents if len(sent.text) > 1]"
      ],
      "execution_count": 5,
      "outputs": []
    },
    {
      "cell_type": "code",
      "metadata": {
        "id": "O4hlPJV2x8f8"
      },
      "source": [
        "GREETING_INPUTS = ['hello', 'hi', 'greetings', \"what's up\", 'hey', 'yo','heya','hiya']\n",
        "GREETING_RESPONSES = ['hello', 'hi', 'hey', 'hi there']\n",
        "def greeting(sentence):\n",
        "  for word in sentence.split():\n",
        "    if word.lower() in GREETING_INPUTS:\n",
        "      return random.choice(GREETING_RESPONSES)"
      ],
      "execution_count": 6,
      "outputs": []
    },
    {
      "cell_type": "code",
      "metadata": {
        "id": "sRYWAh33yx31"
      },
      "source": [
        "# pip install chatterbot"
      ],
      "execution_count": 7,
      "outputs": []
    },
    {
      "cell_type": "code",
      "metadata": {
        "id": "auNQ0fkFyTPg"
      },
      "source": [
        "# Import libraries\n",
        "from chatterbot import ChatBot\n",
        "from chatterbot.trainers import ListTrainer, ChatterBotCorpusTrainer\n",
        "from chatterbot.conversation import Statement"
      ],
      "execution_count": 8,
      "outputs": []
    },
    {
      "cell_type": "code",
      "metadata": {
        "colab": {
          "base_uri": "https://localhost:8080/"
        },
        "id": "Ei7ZLlk_y-FD",
        "outputId": "524ea1bd-b091-471e-cc08-a42ff236a5ec"
      },
      "source": [
        "# Create a chatbot\n",
        "chatbot = ChatBot('Dialogs')\n",
        "\n",
        "# This is to remove the accumulated knowledge base\n",
        "chatbot.storage.drop()\n",
        "\n",
        "# Create a new trainer for the chatbot\n",
        "trainer = ListTrainer(chatbot)\n",
        "\n",
        "# Train the chatbot based on dialogs\n",
        "trainer.train(dialog_sents)"
      ],
      "execution_count": null,
      "outputs": [
        {
          "output_type": "stream",
          "text": [
            "List Trainer: [##                  ] 8%"
          ],
          "name": "stdout"
        }
      ]
    },
    {
      "cell_type": "code",
      "metadata": {
        "id": "qTxIU7XW0pVn"
      },
      "source": [
        "print(\"Cornell: I will try to respond to you reasonably. If you want to exit, type bye\")\n",
        "\n",
        "# Below is the chatting\n",
        "while True:\n",
        "  user_input = input(\"User: \")\n",
        "  user_input = user_input.lower()\n",
        "\n",
        "  if(user_input != 'bye'):\n",
        "    if (user_input == 'thanks' or user_input == 'thank you'):\n",
        "      print(\"Cornell: You're welcome.\")\n",
        "      break\n",
        "    else:\n",
        "      if (greeting(user_input) != None):\n",
        "        print(\"Cornell: \" + greeting(user_input))\n",
        "      else:\n",
        "        print(\"Cornell: \", end =\"\")\n",
        "        print(chatbot.get_response(user_input))\n",
        "  else:\n",
        "    print(\"Cornell: Bye! It was a great chat.\")\n",
        "    break"
      ],
      "execution_count": null,
      "outputs": []
    }
  ]
}